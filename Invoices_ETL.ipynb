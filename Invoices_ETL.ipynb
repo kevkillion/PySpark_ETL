{
 "cells": [
  {
   "cell_type": "markdown",
   "metadata": {},
   "source": [
    "**----------------------------------------------------------------------------------------------------**\n",
    "# **DATA EXPLORATION**\n",
    "**----------------------------------------------------------------------------------------------------**"
   ]
  },
  {
   "cell_type": "markdown",
   "metadata": {},
   "source": [
    "The **data_explorer.py** file is a personal python script in which I use to perform initial exploration of datasets. It uses a function to give key summary features of common data file types. More details on this can be found in the Dataset_Explorer Repository on my Github profile."
   ]
  },
  {
   "cell_type": "code",
   "execution_count": 1,
   "metadata": {},
   "outputs": [],
   "source": [
    "# IMPORT DATA EXPLORER PYTHON FILE TO ANALYSE EACH DATASET\n",
    "\n",
    "import data_explorer"
   ]
  },
  {
   "cell_type": "code",
   "execution_count": 2,
   "metadata": {},
   "outputs": [
    {
     "data": {
      "text/html": [
       "<div style=\"text-align: center;\"><h1 style=\"font-size: 22px; display: inline;\">\n",
       "DATASET EXPLORED: </h1> <span style=\"font-size: 16px;\">data_extracts/accounts.csv</span></div>\n"
      ],
      "text/plain": [
       "<IPython.core.display.HTML object>"
      ]
     },
     "metadata": {},
     "output_type": "display_data"
    },
    {
     "data": {
      "text/html": [
       "<h2 styple=\"font-size: 14px;\">\n",
       "\n",
       "DATASET OVERVIEW:</h2>"
      ],
      "text/plain": [
       "<IPython.core.display.HTML object>"
      ]
     },
     "metadata": {},
     "output_type": "display_data"
    },
    {
     "data": {
      "text/html": [
       "<table border=\"1\" class=\"dataframe\">\n",
       "  <thead>\n",
       "    <tr style=\"text-align: right;\">\n",
       "      <th>Total Columns</th>\n",
       "      <th>Total Rows</th>\n",
       "      <th>Duplicate Rows</th>\n",
       "      <th>Memory Usage</th>\n",
       "    </tr>\n",
       "  </thead>\n",
       "  <tbody>\n",
       "    <tr>\n",
       "      <td>7</td>\n",
       "      <td>200</td>\n",
       "      <td>0</td>\n",
       "      <td>11,328</td>\n",
       "    </tr>\n",
       "  </tbody>\n",
       "</table>"
      ],
      "text/plain": [
       "<IPython.core.display.HTML object>"
      ]
     },
     "metadata": {},
     "output_type": "display_data"
    },
    {
     "data": {
      "text/html": [
       "<h2 styple=\"font-size: 14px;\">\n",
       "DATASET SUMMARY:</h2>"
      ],
      "text/plain": [
       "<IPython.core.display.HTML object>"
      ]
     },
     "metadata": {},
     "output_type": "display_data"
    },
    {
     "data": {
      "text/html": [
       "<table border=\"1\" class=\"dataframe\">\n",
       "  <thead>\n",
       "    <tr style=\"text-align: right;\">\n",
       "      <th></th>\n",
       "      <th>Column Name</th>\n",
       "      <th>Data Type</th>\n",
       "      <th>Null Count</th>\n",
       "      <th>NA Count</th>\n",
       "      <th>Unique Count</th>\n",
       "      <th>Mean</th>\n",
       "      <th>Max</th>\n",
       "      <th>Min</th>\n",
       "      <th>Special Characters Count</th>\n",
       "      <th>Whitespace Count</th>\n",
       "      <th>Break Line Count</th>\n",
       "    </tr>\n",
       "  </thead>\n",
       "  <tbody>\n",
       "    <tr>\n",
       "      <th>0</th>\n",
       "      <td>account_id</td>\n",
       "      <td>int64</td>\n",
       "      <td>0</td>\n",
       "      <td>0</td>\n",
       "      <td>200</td>\n",
       "      <td>100.5</td>\n",
       "      <td>200.0</td>\n",
       "      <td>1.0</td>\n",
       "      <td>0</td>\n",
       "      <td>0</td>\n",
       "      <td>0</td>\n",
       "    </tr>\n",
       "    <tr>\n",
       "      <th>1</th>\n",
       "      <td>company_name</td>\n",
       "      <td>object</td>\n",
       "      <td>0</td>\n",
       "      <td>0</td>\n",
       "      <td>200</td>\n",
       "      <td>nan</td>\n",
       "      <td>nan</td>\n",
       "      <td>nan</td>\n",
       "      <td>65</td>\n",
       "      <td>0</td>\n",
       "      <td>0</td>\n",
       "    </tr>\n",
       "    <tr>\n",
       "      <th>2</th>\n",
       "      <td>company_address</td>\n",
       "      <td>object</td>\n",
       "      <td>0</td>\n",
       "      <td>0</td>\n",
       "      <td>200</td>\n",
       "      <td>nan</td>\n",
       "      <td>nan</td>\n",
       "      <td>nan</td>\n",
       "      <td>0</td>\n",
       "      <td>0</td>\n",
       "      <td>200</td>\n",
       "    </tr>\n",
       "    <tr>\n",
       "      <th>3</th>\n",
       "      <td>contact_person</td>\n",
       "      <td>object</td>\n",
       "      <td>0</td>\n",
       "      <td>0</td>\n",
       "      <td>200</td>\n",
       "      <td>nan</td>\n",
       "      <td>nan</td>\n",
       "      <td>nan</td>\n",
       "      <td>0</td>\n",
       "      <td>0</td>\n",
       "      <td>0</td>\n",
       "    </tr>\n",
       "    <tr>\n",
       "      <th>4</th>\n",
       "      <td>contact_phone</td>\n",
       "      <td>object</td>\n",
       "      <td>0</td>\n",
       "      <td>0</td>\n",
       "      <td>200</td>\n",
       "      <td>nan</td>\n",
       "      <td>nan</td>\n",
       "      <td>nan</td>\n",
       "      <td>151</td>\n",
       "      <td>0</td>\n",
       "      <td>0</td>\n",
       "    </tr>\n",
       "    <tr>\n",
       "      <th>5</th>\n",
       "      <td>gender</td>\n",
       "      <td>object</td>\n",
       "      <td>0</td>\n",
       "      <td>0</td>\n",
       "      <td>2</td>\n",
       "      <td>nan</td>\n",
       "      <td>nan</td>\n",
       "      <td>nan</td>\n",
       "      <td>0</td>\n",
       "      <td>0</td>\n",
       "      <td>0</td>\n",
       "    </tr>\n",
       "    <tr>\n",
       "      <th>6</th>\n",
       "      <td>joining_date</td>\n",
       "      <td>object</td>\n",
       "      <td>0</td>\n",
       "      <td>0</td>\n",
       "      <td>179</td>\n",
       "      <td>nan</td>\n",
       "      <td>nan</td>\n",
       "      <td>nan</td>\n",
       "      <td>200</td>\n",
       "      <td>0</td>\n",
       "      <td>0</td>\n",
       "    </tr>\n",
       "  </tbody>\n",
       "</table>"
      ],
      "text/plain": [
       "<IPython.core.display.HTML object>"
      ]
     },
     "metadata": {},
     "output_type": "display_data"
    },
    {
     "data": {
      "text/html": [
       "<h2 styple=\"font-size: 14px;\">\n",
       "\n",
       "DATASET SAMPLE:</h2>"
      ],
      "text/plain": [
       "<IPython.core.display.HTML object>"
      ]
     },
     "metadata": {},
     "output_type": "display_data"
    },
    {
     "data": {
      "text/html": [
       "<table border=\"1\" class=\"dataframe\">\n",
       "  <thead>\n",
       "    <tr style=\"text-align: right;\">\n",
       "      <th>account_id</th>\n",
       "      <th>company_name</th>\n",
       "      <th>company_address</th>\n",
       "      <th>contact_person</th>\n",
       "      <th>contact_phone</th>\n",
       "      <th>gender</th>\n",
       "      <th>joining_date</th>\n",
       "    </tr>\n",
       "  </thead>\n",
       "  <tbody>\n",
       "    <tr>\n",
       "      <td>168</td>\n",
       "      <td>Brock and Sons</td>\n",
       "      <td>1531 Martin Center\\nVargaston, IN 16753</td>\n",
       "      <td>Denise Moreno</td>\n",
       "      <td>926-621-0713</td>\n",
       "      <td>F</td>\n",
       "      <td>2019-05-02</td>\n",
       "    </tr>\n",
       "    <tr>\n",
       "      <td>46</td>\n",
       "      <td>Thompson-Schmidt</td>\n",
       "      <td>88204 Wolf Lane Suite 478\\nLake Jonathan, ND 72312</td>\n",
       "      <td>Valerie Gutierrez</td>\n",
       "      <td>(390)134-6440</td>\n",
       "      <td>F</td>\n",
       "      <td>2017-05-14</td>\n",
       "    </tr>\n",
       "    <tr>\n",
       "      <td>84</td>\n",
       "      <td>Grimes LLC</td>\n",
       "      <td>703 Laura Tunnel Apt. 251\\nLake Michael, WI 83007</td>\n",
       "      <td>Terry Cook</td>\n",
       "      <td>(569)616-4419x42573</td>\n",
       "      <td>M</td>\n",
       "      <td>2018-12-02</td>\n",
       "    </tr>\n",
       "    <tr>\n",
       "      <td>125</td>\n",
       "      <td>Carney, Strickland and Ayala</td>\n",
       "      <td>88387 Jeremy Vista Apt. 995\\nWest Sabrina, MI 93748</td>\n",
       "      <td>Austin Flowers</td>\n",
       "      <td>001-314-779-2092x2653</td>\n",
       "      <td>M</td>\n",
       "      <td>2017-10-28</td>\n",
       "    </tr>\n",
       "    <tr>\n",
       "      <td>93</td>\n",
       "      <td>Frye-Frank</td>\n",
       "      <td>35783 Stewart Views\\nBreannamouth, MN 83679</td>\n",
       "      <td>Veronica Schneider</td>\n",
       "      <td>9958273819</td>\n",
       "      <td>F</td>\n",
       "      <td>2017-09-26</td>\n",
       "    </tr>\n",
       "    <tr>\n",
       "      <td>120</td>\n",
       "      <td>Nelson PLC</td>\n",
       "      <td>30080 Ward Radial Suite 976\\nMeyerland, FL 79640</td>\n",
       "      <td>Travis Lewis</td>\n",
       "      <td>+1-458-297-5388</td>\n",
       "      <td>M</td>\n",
       "      <td>2018-05-09</td>\n",
       "    </tr>\n",
       "    <tr>\n",
       "      <td>153</td>\n",
       "      <td>Perez-Villegas</td>\n",
       "      <td>555 Kevin Ford\\nKathrynport, NM 75119</td>\n",
       "      <td>Andrew Gonzales</td>\n",
       "      <td>001-670-935-0102x874</td>\n",
       "      <td>M</td>\n",
       "      <td>2017-04-20</td>\n",
       "    </tr>\n",
       "    <tr>\n",
       "      <td>75</td>\n",
       "      <td>Bryant-Williams</td>\n",
       "      <td>23037 Teresa Crossing Suite 222\\nNataliestad, NE 87549</td>\n",
       "      <td>Michael Collins</td>\n",
       "      <td>001-313-050-2654</td>\n",
       "      <td>M</td>\n",
       "      <td>2016-06-11</td>\n",
       "    </tr>\n",
       "    <tr>\n",
       "      <td>182</td>\n",
       "      <td>Schwartz and Sons</td>\n",
       "      <td>289 Kimberly Mount\\nSouth Jessicaberg, WY 47971</td>\n",
       "      <td>Dr. Carolyn Mendoza</td>\n",
       "      <td>+1-068-759-4256</td>\n",
       "      <td>F</td>\n",
       "      <td>2018-01-02</td>\n",
       "    </tr>\n",
       "    <tr>\n",
       "      <td>2</td>\n",
       "      <td>Downs-Simmons</td>\n",
       "      <td>Unit 4570 Box 3823\\nDPO AA 82280</td>\n",
       "      <td>Todd Jones</td>\n",
       "      <td>(485)096-9796x7780</td>\n",
       "      <td>M</td>\n",
       "      <td>2017-11-09</td>\n",
       "    </tr>\n",
       "  </tbody>\n",
       "</table>"
      ],
      "text/plain": [
       "<IPython.core.display.HTML object>"
      ]
     },
     "metadata": {},
     "output_type": "display_data"
    }
   ],
   "source": [
    "data_explorer.analyze_dataset('data_extracts/accounts.csv')"
   ]
  },
  {
   "cell_type": "code",
   "execution_count": 3,
   "metadata": {},
   "outputs": [
    {
     "data": {
      "text/html": [
       "<div style=\"text-align: center;\"><h1 style=\"font-size: 22px; display: inline;\">\n",
       "DATASET EXPLORED: </h1> <span style=\"font-size: 16px;\">data_extracts/invoices.csv</span></div>\n"
      ],
      "text/plain": [
       "<IPython.core.display.HTML object>"
      ]
     },
     "metadata": {},
     "output_type": "display_data"
    },
    {
     "data": {
      "text/html": [
       "<h2 styple=\"font-size: 14px;\">\n",
       "\n",
       "DATASET OVERVIEW:</h2>"
      ],
      "text/plain": [
       "<IPython.core.display.HTML object>"
      ]
     },
     "metadata": {},
     "output_type": "display_data"
    },
    {
     "data": {
      "text/html": [
       "<table border=\"1\" class=\"dataframe\">\n",
       "  <thead>\n",
       "    <tr style=\"text-align: right;\">\n",
       "      <th>Total Columns</th>\n",
       "      <th>Total Rows</th>\n",
       "      <th>Duplicate Rows</th>\n",
       "      <th>Memory Usage</th>\n",
       "    </tr>\n",
       "  </thead>\n",
       "  <tbody>\n",
       "    <tr>\n",
       "      <td>4</td>\n",
       "      <td>9,685</td>\n",
       "      <td>0</td>\n",
       "      <td>310,048</td>\n",
       "    </tr>\n",
       "  </tbody>\n",
       "</table>"
      ],
      "text/plain": [
       "<IPython.core.display.HTML object>"
      ]
     },
     "metadata": {},
     "output_type": "display_data"
    },
    {
     "data": {
      "text/html": [
       "<h2 styple=\"font-size: 14px;\">\n",
       "DATASET SUMMARY:</h2>"
      ],
      "text/plain": [
       "<IPython.core.display.HTML object>"
      ]
     },
     "metadata": {},
     "output_type": "display_data"
    },
    {
     "data": {
      "text/html": [
       "<table border=\"1\" class=\"dataframe\">\n",
       "  <thead>\n",
       "    <tr style=\"text-align: right;\">\n",
       "      <th></th>\n",
       "      <th>Column Name</th>\n",
       "      <th>Data Type</th>\n",
       "      <th>Null Count</th>\n",
       "      <th>NA Count</th>\n",
       "      <th>Unique Count</th>\n",
       "      <th>Mean</th>\n",
       "      <th>Max</th>\n",
       "      <th>Min</th>\n",
       "      <th>Special Characters Count</th>\n",
       "      <th>Whitespace Count</th>\n",
       "      <th>Break Line Count</th>\n",
       "    </tr>\n",
       "  </thead>\n",
       "  <tbody>\n",
       "    <tr>\n",
       "      <th>0</th>\n",
       "      <td>invoice_id</td>\n",
       "      <td>int64</td>\n",
       "      <td>0</td>\n",
       "      <td>0</td>\n",
       "      <td>9,685</td>\n",
       "      <td>4,843.0</td>\n",
       "      <td>9,685.0</td>\n",
       "      <td>1.0</td>\n",
       "      <td>0</td>\n",
       "      <td>0</td>\n",
       "      <td>0</td>\n",
       "    </tr>\n",
       "    <tr>\n",
       "      <th>1</th>\n",
       "      <td>account_id</td>\n",
       "      <td>int64</td>\n",
       "      <td>0</td>\n",
       "      <td>0</td>\n",
       "      <td>200</td>\n",
       "      <td>98.4</td>\n",
       "      <td>200.0</td>\n",
       "      <td>1.0</td>\n",
       "      <td>0</td>\n",
       "      <td>0</td>\n",
       "      <td>0</td>\n",
       "    </tr>\n",
       "    <tr>\n",
       "      <th>2</th>\n",
       "      <td>date_issued</td>\n",
       "      <td>object</td>\n",
       "      <td>0</td>\n",
       "      <td>0</td>\n",
       "      <td>366</td>\n",
       "      <td>nan</td>\n",
       "      <td>nan</td>\n",
       "      <td>nan</td>\n",
       "      <td>9,685</td>\n",
       "      <td>0</td>\n",
       "      <td>0</td>\n",
       "    </tr>\n",
       "    <tr>\n",
       "      <th>3</th>\n",
       "      <td>payment_dates</td>\n",
       "      <td>object</td>\n",
       "      <td>0</td>\n",
       "      <td>0</td>\n",
       "      <td>394</td>\n",
       "      <td>nan</td>\n",
       "      <td>nan</td>\n",
       "      <td>nan</td>\n",
       "      <td>9,685</td>\n",
       "      <td>0</td>\n",
       "      <td>0</td>\n",
       "    </tr>\n",
       "  </tbody>\n",
       "</table>"
      ],
      "text/plain": [
       "<IPython.core.display.HTML object>"
      ]
     },
     "metadata": {},
     "output_type": "display_data"
    },
    {
     "data": {
      "text/html": [
       "<h2 styple=\"font-size: 14px;\">\n",
       "\n",
       "DATASET SAMPLE:</h2>"
      ],
      "text/plain": [
       "<IPython.core.display.HTML object>"
      ]
     },
     "metadata": {},
     "output_type": "display_data"
    },
    {
     "data": {
      "text/html": [
       "<table border=\"1\" class=\"dataframe\">\n",
       "  <thead>\n",
       "    <tr style=\"text-align: right;\">\n",
       "      <th>invoice_id</th>\n",
       "      <th>account_id</th>\n",
       "      <th>date_issued</th>\n",
       "      <th>payment_dates</th>\n",
       "    </tr>\n",
       "  </thead>\n",
       "  <tbody>\n",
       "    <tr>\n",
       "      <td>6493</td>\n",
       "      <td>129</td>\n",
       "      <td>2020-10-20</td>\n",
       "      <td>2020-12-13</td>\n",
       "    </tr>\n",
       "    <tr>\n",
       "      <td>4001</td>\n",
       "      <td>81</td>\n",
       "      <td>2020-08-12</td>\n",
       "      <td>2020-09-10</td>\n",
       "    </tr>\n",
       "    <tr>\n",
       "      <td>8687</td>\n",
       "      <td>178</td>\n",
       "      <td>2020-09-16</td>\n",
       "      <td>2020-10-15</td>\n",
       "    </tr>\n",
       "    <tr>\n",
       "      <td>6993</td>\n",
       "      <td>143</td>\n",
       "      <td>2020-09-14</td>\n",
       "      <td>2020-10-14</td>\n",
       "    </tr>\n",
       "    <tr>\n",
       "      <td>313</td>\n",
       "      <td>8</td>\n",
       "      <td>2020-05-24</td>\n",
       "      <td>2020-06-18</td>\n",
       "    </tr>\n",
       "    <tr>\n",
       "      <td>1361</td>\n",
       "      <td>26</td>\n",
       "      <td>2020-08-17</td>\n",
       "      <td>2020-09-16</td>\n",
       "    </tr>\n",
       "    <tr>\n",
       "      <td>6116</td>\n",
       "      <td>121</td>\n",
       "      <td>2020-08-31</td>\n",
       "      <td>2020-10-21</td>\n",
       "    </tr>\n",
       "    <tr>\n",
       "      <td>4449</td>\n",
       "      <td>89</td>\n",
       "      <td>2021-03-04</td>\n",
       "      <td>2021-04-24</td>\n",
       "    </tr>\n",
       "    <tr>\n",
       "      <td>8967</td>\n",
       "      <td>183</td>\n",
       "      <td>2020-06-10</td>\n",
       "      <td>2020-07-09</td>\n",
       "    </tr>\n",
       "    <tr>\n",
       "      <td>3624</td>\n",
       "      <td>75</td>\n",
       "      <td>2020-09-15</td>\n",
       "      <td>2020-10-11</td>\n",
       "    </tr>\n",
       "  </tbody>\n",
       "</table>"
      ],
      "text/plain": [
       "<IPython.core.display.HTML object>"
      ]
     },
     "metadata": {},
     "output_type": "display_data"
    }
   ],
   "source": [
    "data_explorer.analyze_dataset('data_extracts/invoices.csv')"
   ]
  },
  {
   "cell_type": "code",
   "execution_count": 4,
   "metadata": {},
   "outputs": [
    {
     "data": {
      "text/html": [
       "<div style=\"text-align: center;\"><h1 style=\"font-size: 22px; display: inline;\">\n",
       "DATASET EXPLORED: </h1> <span style=\"font-size: 16px;\">data_extracts/invoice_line_items.csv</span></div>\n"
      ],
      "text/plain": [
       "<IPython.core.display.HTML object>"
      ]
     },
     "metadata": {},
     "output_type": "display_data"
    },
    {
     "data": {
      "text/html": [
       "<h2 styple=\"font-size: 14px;\">\n",
       "\n",
       "DATASET OVERVIEW:</h2>"
      ],
      "text/plain": [
       "<IPython.core.display.HTML object>"
      ]
     },
     "metadata": {},
     "output_type": "display_data"
    },
    {
     "data": {
      "text/html": [
       "<table border=\"1\" class=\"dataframe\">\n",
       "  <thead>\n",
       "    <tr style=\"text-align: right;\">\n",
       "      <th>Total Columns</th>\n",
       "      <th>Total Rows</th>\n",
       "      <th>Duplicate Rows</th>\n",
       "      <th>Memory Usage</th>\n",
       "    </tr>\n",
       "  </thead>\n",
       "  <tbody>\n",
       "    <tr>\n",
       "      <td>3</td>\n",
       "      <td>53,481</td>\n",
       "      <td>0</td>\n",
       "      <td>1,283,672</td>\n",
       "    </tr>\n",
       "  </tbody>\n",
       "</table>"
      ],
      "text/plain": [
       "<IPython.core.display.HTML object>"
      ]
     },
     "metadata": {},
     "output_type": "display_data"
    },
    {
     "data": {
      "text/html": [
       "<h2 styple=\"font-size: 14px;\">\n",
       "DATASET SUMMARY:</h2>"
      ],
      "text/plain": [
       "<IPython.core.display.HTML object>"
      ]
     },
     "metadata": {},
     "output_type": "display_data"
    },
    {
     "data": {
      "text/html": [
       "<table border=\"1\" class=\"dataframe\">\n",
       "  <thead>\n",
       "    <tr style=\"text-align: right;\">\n",
       "      <th></th>\n",
       "      <th>Column Name</th>\n",
       "      <th>Data Type</th>\n",
       "      <th>Null Count</th>\n",
       "      <th>NA Count</th>\n",
       "      <th>Unique Count</th>\n",
       "      <th>Mean</th>\n",
       "      <th>Max</th>\n",
       "      <th>Min</th>\n",
       "      <th>Special Characters Count</th>\n",
       "      <th>Whitespace Count</th>\n",
       "      <th>Break Line Count</th>\n",
       "    </tr>\n",
       "  </thead>\n",
       "  <tbody>\n",
       "    <tr>\n",
       "      <th>0</th>\n",
       "      <td>invoice_id</td>\n",
       "      <td>int64</td>\n",
       "      <td>0</td>\n",
       "      <td>0</td>\n",
       "      <td>9,685</td>\n",
       "      <td>4,847.1</td>\n",
       "      <td>9,685.0</td>\n",
       "      <td>1.0</td>\n",
       "      <td>0</td>\n",
       "      <td>0</td>\n",
       "      <td>0</td>\n",
       "    </tr>\n",
       "    <tr>\n",
       "      <th>1</th>\n",
       "      <td>item_id</td>\n",
       "      <td>object</td>\n",
       "      <td>0</td>\n",
       "      <td>0</td>\n",
       "      <td>100</td>\n",
       "      <td>nan</td>\n",
       "      <td>nan</td>\n",
       "      <td>nan</td>\n",
       "      <td>53,481</td>\n",
       "      <td>0</td>\n",
       "      <td>0</td>\n",
       "    </tr>\n",
       "    <tr>\n",
       "      <th>2</th>\n",
       "      <td>quantity</td>\n",
       "      <td>int64</td>\n",
       "      <td>0</td>\n",
       "      <td>0</td>\n",
       "      <td>4</td>\n",
       "      <td>2.5</td>\n",
       "      <td>4.0</td>\n",
       "      <td>1.0</td>\n",
       "      <td>0</td>\n",
       "      <td>0</td>\n",
       "      <td>0</td>\n",
       "    </tr>\n",
       "  </tbody>\n",
       "</table>"
      ],
      "text/plain": [
       "<IPython.core.display.HTML object>"
      ]
     },
     "metadata": {},
     "output_type": "display_data"
    },
    {
     "data": {
      "text/html": [
       "<h2 styple=\"font-size: 14px;\">\n",
       "\n",
       "DATASET SAMPLE:</h2>"
      ],
      "text/plain": [
       "<IPython.core.display.HTML object>"
      ]
     },
     "metadata": {},
     "output_type": "display_data"
    },
    {
     "data": {
      "text/html": [
       "<table border=\"1\" class=\"dataframe\">\n",
       "  <thead>\n",
       "    <tr style=\"text-align: right;\">\n",
       "      <th>invoice_id</th>\n",
       "      <th>item_id</th>\n",
       "      <th>quantity</th>\n",
       "    </tr>\n",
       "  </thead>\n",
       "  <tbody>\n",
       "    <tr>\n",
       "      <td>8491</td>\n",
       "      <td>1-320-98453-3</td>\n",
       "      <td>1</td>\n",
       "    </tr>\n",
       "    <tr>\n",
       "      <td>8222</td>\n",
       "      <td>0-493-95641-7</td>\n",
       "      <td>3</td>\n",
       "    </tr>\n",
       "    <tr>\n",
       "      <td>5428</td>\n",
       "      <td>0-289-91901-0</td>\n",
       "      <td>1</td>\n",
       "    </tr>\n",
       "    <tr>\n",
       "      <td>1369</td>\n",
       "      <td>1-67777-184-4</td>\n",
       "      <td>2</td>\n",
       "    </tr>\n",
       "    <tr>\n",
       "      <td>5031</td>\n",
       "      <td>0-596-89331-0</td>\n",
       "      <td>4</td>\n",
       "    </tr>\n",
       "    <tr>\n",
       "      <td>5388</td>\n",
       "      <td>0-596-89331-0</td>\n",
       "      <td>1</td>\n",
       "    </tr>\n",
       "    <tr>\n",
       "      <td>3888</td>\n",
       "      <td>0-469-21982-3</td>\n",
       "      <td>1</td>\n",
       "    </tr>\n",
       "    <tr>\n",
       "      <td>2691</td>\n",
       "      <td>0-667-81667-4</td>\n",
       "      <td>4</td>\n",
       "    </tr>\n",
       "    <tr>\n",
       "      <td>776</td>\n",
       "      <td>1-65593-056-7</td>\n",
       "      <td>4</td>\n",
       "    </tr>\n",
       "    <tr>\n",
       "      <td>9137</td>\n",
       "      <td>1-67777-184-4</td>\n",
       "      <td>2</td>\n",
       "    </tr>\n",
       "  </tbody>\n",
       "</table>"
      ],
      "text/plain": [
       "<IPython.core.display.HTML object>"
      ]
     },
     "metadata": {},
     "output_type": "display_data"
    }
   ],
   "source": [
    "data_explorer.analyze_dataset('data_extracts/invoice_line_items.csv')"
   ]
  },
  {
   "cell_type": "code",
   "execution_count": 5,
   "metadata": {},
   "outputs": [
    {
     "data": {
      "text/html": [
       "<div style=\"text-align: center;\"><h1 style=\"font-size: 22px; display: inline;\">\n",
       "DATASET EXPLORED: </h1> <span style=\"font-size: 16px;\">data_extracts/skus.csv</span></div>\n"
      ],
      "text/plain": [
       "<IPython.core.display.HTML object>"
      ]
     },
     "metadata": {},
     "output_type": "display_data"
    },
    {
     "data": {
      "text/html": [
       "<h2 styple=\"font-size: 14px;\">\n",
       "\n",
       "DATASET OVERVIEW:</h2>"
      ],
      "text/plain": [
       "<IPython.core.display.HTML object>"
      ]
     },
     "metadata": {},
     "output_type": "display_data"
    },
    {
     "data": {
      "text/html": [
       "<table border=\"1\" class=\"dataframe\">\n",
       "  <thead>\n",
       "    <tr style=\"text-align: right;\">\n",
       "      <th>Total Columns</th>\n",
       "      <th>Total Rows</th>\n",
       "      <th>Duplicate Rows</th>\n",
       "      <th>Memory Usage</th>\n",
       "    </tr>\n",
       "  </thead>\n",
       "  <tbody>\n",
       "    <tr>\n",
       "      <td>5</td>\n",
       "      <td>100</td>\n",
       "      <td>0</td>\n",
       "      <td>4,128</td>\n",
       "    </tr>\n",
       "  </tbody>\n",
       "</table>"
      ],
      "text/plain": [
       "<IPython.core.display.HTML object>"
      ]
     },
     "metadata": {},
     "output_type": "display_data"
    },
    {
     "data": {
      "text/html": [
       "<h2 styple=\"font-size: 14px;\">\n",
       "DATASET SUMMARY:</h2>"
      ],
      "text/plain": [
       "<IPython.core.display.HTML object>"
      ]
     },
     "metadata": {},
     "output_type": "display_data"
    },
    {
     "data": {
      "text/html": [
       "<table border=\"1\" class=\"dataframe\">\n",
       "  <thead>\n",
       "    <tr style=\"text-align: right;\">\n",
       "      <th></th>\n",
       "      <th>Column Name</th>\n",
       "      <th>Data Type</th>\n",
       "      <th>Null Count</th>\n",
       "      <th>NA Count</th>\n",
       "      <th>Unique Count</th>\n",
       "      <th>Mean</th>\n",
       "      <th>Max</th>\n",
       "      <th>Min</th>\n",
       "      <th>Special Characters Count</th>\n",
       "      <th>Whitespace Count</th>\n",
       "      <th>Break Line Count</th>\n",
       "    </tr>\n",
       "  </thead>\n",
       "  <tbody>\n",
       "    <tr>\n",
       "      <th>0</th>\n",
       "      <td>item_id</td>\n",
       "      <td>object</td>\n",
       "      <td>0</td>\n",
       "      <td>0</td>\n",
       "      <td>100</td>\n",
       "      <td>nan</td>\n",
       "      <td>nan</td>\n",
       "      <td>nan</td>\n",
       "      <td>100</td>\n",
       "      <td>0</td>\n",
       "      <td>0</td>\n",
       "    </tr>\n",
       "    <tr>\n",
       "      <th>1</th>\n",
       "      <td>item_name</td>\n",
       "      <td>object</td>\n",
       "      <td>0</td>\n",
       "      <td>0</td>\n",
       "      <td>100</td>\n",
       "      <td>nan</td>\n",
       "      <td>nan</td>\n",
       "      <td>nan</td>\n",
       "      <td>59</td>\n",
       "      <td>0</td>\n",
       "      <td>0</td>\n",
       "    </tr>\n",
       "    <tr>\n",
       "      <th>2</th>\n",
       "      <td>item_description</td>\n",
       "      <td>object</td>\n",
       "      <td>0</td>\n",
       "      <td>0</td>\n",
       "      <td>100</td>\n",
       "      <td>nan</td>\n",
       "      <td>nan</td>\n",
       "      <td>nan</td>\n",
       "      <td>63</td>\n",
       "      <td>0</td>\n",
       "      <td>0</td>\n",
       "    </tr>\n",
       "    <tr>\n",
       "      <th>3</th>\n",
       "      <td>item_cost_price</td>\n",
       "      <td>float64</td>\n",
       "      <td>0</td>\n",
       "      <td>0</td>\n",
       "      <td>100</td>\n",
       "      <td>4,871.6</td>\n",
       "      <td>9,956.5</td>\n",
       "      <td>115.7</td>\n",
       "      <td>0</td>\n",
       "      <td>0</td>\n",
       "      <td>0</td>\n",
       "    </tr>\n",
       "    <tr>\n",
       "      <th>4</th>\n",
       "      <td>item_retail_price</td>\n",
       "      <td>float64</td>\n",
       "      <td>0</td>\n",
       "      <td>0</td>\n",
       "      <td>100</td>\n",
       "      <td>10,149.0</td>\n",
       "      <td>28,111.4</td>\n",
       "      <td>239.7</td>\n",
       "      <td>0</td>\n",
       "      <td>0</td>\n",
       "      <td>0</td>\n",
       "    </tr>\n",
       "  </tbody>\n",
       "</table>"
      ],
      "text/plain": [
       "<IPython.core.display.HTML object>"
      ]
     },
     "metadata": {},
     "output_type": "display_data"
    },
    {
     "data": {
      "text/html": [
       "<h2 styple=\"font-size: 14px;\">\n",
       "\n",
       "DATASET SAMPLE:</h2>"
      ],
      "text/plain": [
       "<IPython.core.display.HTML object>"
      ]
     },
     "metadata": {},
     "output_type": "display_data"
    },
    {
     "data": {
      "text/html": [
       "<table border=\"1\" class=\"dataframe\">\n",
       "  <thead>\n",
       "    <tr style=\"text-align: right;\">\n",
       "      <th>item_id</th>\n",
       "      <th>item_name</th>\n",
       "      <th>item_description</th>\n",
       "      <th>item_cost_price</th>\n",
       "      <th>item_retail_price</th>\n",
       "    </tr>\n",
       "  </thead>\n",
       "  <tbody>\n",
       "    <tr>\n",
       "      <td>1-4274-3175-2</td>\n",
       "      <td>Front-line 4thgeneration solution</td>\n",
       "      <td>synergize granular infrastructures</td>\n",
       "      <td>9868.44</td>\n",
       "      <td>16035.35</td>\n",
       "    </tr>\n",
       "    <tr>\n",
       "      <td>0-667-81667-4</td>\n",
       "      <td>Customizable holistic installation</td>\n",
       "      <td>deploy cross-media e-markets</td>\n",
       "      <td>6808.85</td>\n",
       "      <td>8448.28</td>\n",
       "    </tr>\n",
       "    <tr>\n",
       "      <td>0-01-717479-1</td>\n",
       "      <td>Integrated needs-based complexity</td>\n",
       "      <td>scale turn-key infrastructures</td>\n",
       "      <td>3425.02</td>\n",
       "      <td>5118.67</td>\n",
       "    </tr>\n",
       "    <tr>\n",
       "      <td>1-107-39856-8</td>\n",
       "      <td>Secured transitional open architecture</td>\n",
       "      <td>transition killer mindshare</td>\n",
       "      <td>8675.24</td>\n",
       "      <td>21728.93</td>\n",
       "    </tr>\n",
       "    <tr>\n",
       "      <td>0-476-73108-9</td>\n",
       "      <td>Implemented incremental knowledge user</td>\n",
       "      <td>monetize clicks-and-mortar markets</td>\n",
       "      <td>8949.56</td>\n",
       "      <td>12654.14</td>\n",
       "    </tr>\n",
       "    <tr>\n",
       "      <td>1-60642-190-5</td>\n",
       "      <td>Enhanced uniform methodology</td>\n",
       "      <td>strategize e-business partnerships</td>\n",
       "      <td>4100.31</td>\n",
       "      <td>10595.29</td>\n",
       "    </tr>\n",
       "    <tr>\n",
       "      <td>0-383-11312-1</td>\n",
       "      <td>Reactive object-oriented alliance</td>\n",
       "      <td>syndicate proactive action-items</td>\n",
       "      <td>1170.35</td>\n",
       "      <td>2222.55</td>\n",
       "    </tr>\n",
       "    <tr>\n",
       "      <td>0-493-95641-7</td>\n",
       "      <td>Up-sized national Graphical User Interface</td>\n",
       "      <td>embrace web-enabled relationships</td>\n",
       "      <td>4176.51</td>\n",
       "      <td>7546.17</td>\n",
       "    </tr>\n",
       "    <tr>\n",
       "      <td>0-14-678009-4</td>\n",
       "      <td>Organic well-modulated system engine</td>\n",
       "      <td>e-enable end-to-end networks</td>\n",
       "      <td>2599.90</td>\n",
       "      <td>6851.41</td>\n",
       "    </tr>\n",
       "    <tr>\n",
       "      <td>1-222-32214-5</td>\n",
       "      <td>Re-engineered maximized artificial intelligence</td>\n",
       "      <td>unleash synergistic markets</td>\n",
       "      <td>3830.25</td>\n",
       "      <td>4362.38</td>\n",
       "    </tr>\n",
       "  </tbody>\n",
       "</table>"
      ],
      "text/plain": [
       "<IPython.core.display.HTML object>"
      ]
     },
     "metadata": {},
     "output_type": "display_data"
    }
   ],
   "source": [
    "data_explorer.analyze_dataset('data_extracts/skus.csv')"
   ]
  },
  {
   "cell_type": "markdown",
   "metadata": {},
   "source": [
    "**----------------------------------------------------------------------------------------------------**\n",
    "# **PYSPARK ETL Process**\n",
    "**----------------------------------------------------------------------------------------------------**"
   ]
  },
  {
   "cell_type": "code",
   "execution_count": 6,
   "metadata": {},
   "outputs": [],
   "source": [
    "# STEP 1: IMPORT REQUIRED LIBRARIES\n",
    "\n",
    "from pyspark.sql import SparkSession\n",
    "from pyspark.sql.types import StructType, StructField, IntegerType, StringType, DateType\n",
    "import warnings\n",
    "\n",
    "warnings.filterwarnings(\"ignore\")"
   ]
  },
  {
   "cell_type": "code",
   "execution_count": 7,
   "metadata": {},
   "outputs": [
    {
     "name": "stderr",
     "output_type": "stream",
     "text": [
      "Setting default log level to \"WARN\".\n",
      "To adjust logging level use sc.setLogLevel(newLevel). For SparkR, use setLogLevel(newLevel).\n",
      "23/08/25 10:38:44 WARN NativeCodeLoader: Unable to load native-hadoop library for your platform... using builtin-java classes where applicable\n"
     ]
    }
   ],
   "source": [
    "# STEP 2: CREATE SPARK SESSION\n",
    "\n",
    "spark = SparkSession.builder.appName(\"InvoiceETL\").getOrCreate()"
   ]
  },
  {
   "cell_type": "code",
   "execution_count": 9,
   "metadata": {},
   "outputs": [],
   "source": [
    "# STEP 3: LOAD CSV EXTRACTS INTO DATAFRAMES\n",
    "\n",
    "accounts_df = spark.read.csv(\"data_extracts/accounts.csv\", inferSchema=True, header=True, quote='\"', escape=\"\\\\\", multiLine=True) # USE QUOTE AND MULTILINE FOR company_address\n",
    "skus_df = spark.read.csv(\"data_extracts/skus.csv\", header=True, inferSchema=True)\n",
    "invoices_df = spark.read.csv(\"data_extracts/invoices.csv\", header=True, inferSchema=True)\n",
    "invoice_line_items_df = spark.read.csv(\"data_extracts/invoice_line_items.csv\", header=True, inferSchema=True)"
   ]
  },
  {
   "cell_type": "code",
   "execution_count": 10,
   "metadata": {},
   "outputs": [],
   "source": [
    "# STEP 4: CREATE TEMP TABLES FOR SPARKSQL\n",
    "\n",
    "accounts_df.createOrReplaceTempView(\"accounts\")\n",
    "skus_df.createOrReplaceTempView(\"skus\")\n",
    "invoices_df.createOrReplaceTempView(\"invoices\")\n",
    "invoice_line_items_df.createOrReplaceTempView(\"invoice_line_items\")"
   ]
  },
  {
   "cell_type": "code",
   "execution_count": 11,
   "metadata": {},
   "outputs": [
    {
     "name": "stderr",
     "output_type": "stream",
     "text": [
      "[Stage 17:>                                                         (0 + 1) / 1]\r"
     ]
    },
    {
     "name": "stdout",
     "output_type": "stream",
     "text": [
      "+----------+--------------+----------------+------------------+\n",
      "|invoice_id|total_quantity|total_cost_price|total_retail_price|\n",
      "+----------+--------------+----------------+------------------+\n",
      "|         1|            16|        51850.56|         150688.82|\n",
      "|         2|             6|         33415.9|          69363.78|\n",
      "|         3|            15|        74707.57|         147434.99|\n",
      "|         4|            10|        55635.26|         136826.63|\n",
      "|         5|            21|        132225.4|         308846.37|\n",
      "|         6|             8|          4180.4|           9787.72|\n",
      "|         7|            16|       101173.97|         147924.41|\n",
      "|         8|            15|        62209.29|         137621.43|\n",
      "|         9|             5|         6072.95|           11299.5|\n",
      "|        10|            12|        53269.47|         124059.65|\n",
      "|        11|            17|         56404.9|          111812.0|\n",
      "|        12|             3|        13317.12|          35051.03|\n",
      "|        13|            12|        71612.45|         126570.35|\n",
      "|        14|            22|       142723.58|         237957.76|\n",
      "|        15|            23|       111880.43|         214171.37|\n",
      "|        16|            17|        86547.81|          168124.8|\n",
      "|        17|             8|        33762.62|          55486.75|\n",
      "|        18|             7|        36003.75|         100269.37|\n",
      "|        19|             5|        17056.18|          36407.18|\n",
      "|        20|            18|        60325.44|         111663.22|\n",
      "+----------+--------------+----------------+------------------+\n",
      "only showing top 20 rows\n",
      "\n"
     ]
    },
    {
     "name": "stderr",
     "output_type": "stream",
     "text": [
      "                                                                                \r"
     ]
    }
   ],
   "source": [
    "# STEP 5: TRANSFORM DATAFRAMES INTO FEATURES REQUIRED BY DATA SCIENTISTS\n",
    "\n",
    "# STEP 5A: CREATE INTERMEDIATE MODEL TO AGGREGATE INVOICE LINE ITEMS\n",
    "\n",
    "try: \n",
    "  \n",
    "  invoices_total = spark.sql(\"\"\"\n",
    "\n",
    "----------------INTERMEDIATE MODEL 'INVOICES_TOTAL' CALCULATES AGGREGATED DATA FOR EACH INVOICE-----------------\n",
    "---------------------JOINS skus (Stock Keeping Units) INFORMATION INTO invoice_line_items-----------------------\n",
    "----------------------------THE MODEL IS CREATED TO BE USED LATER IN THE MAIN QUERY-----------------------------\n",
    "\n",
    "  CREATE OR REPLACE TEMPORARY VIEW invoices_total AS (\n",
    "      SELECT\n",
    "        l.invoice_id\n",
    "        ,SUM(l.quantity) AS total_quantity\n",
    "        ,ROUND(SUM(s.item_cost_price * l.quantity), 2) AS total_cost_price\n",
    "        ,ROUND(SUM(s.item_retail_price * l.quantity), 2) AS total_retail_price\n",
    "          \n",
    "      FROM invoice_line_items l\n",
    "        LEFT JOIN skus s\n",
    "        ON l.item_id = s.item_id\n",
    "\n",
    "      GROUP BY l.invoice_id\n",
    "      ORDER BY l.invoice_id )\n",
    "\n",
    "    \"\"\")\n",
    "\n",
    "  spark.sql(\"SELECT * FROM invoices_total\").show()\n",
    "\n",
    "except Exception as e:\n",
    "    # RETRIEVE SQL ERROR MESSAGE\n",
    "    sql_error_message = str(e)\n",
    "    print(\"SQL Error Message:\", sql_error_message)\n",
    "\n"
   ]
  },
  {
   "cell_type": "code",
   "execution_count": 12,
   "metadata": {},
   "outputs": [
    {
     "name": "stderr",
     "output_type": "stream",
     "text": [
      "                                                                                \r"
     ]
    },
    {
     "name": "stdout",
     "output_type": "stream",
     "text": [
      "+------+-------+---------+---------+--------+------------+----------------+-------+\n",
      "|inv_id|acct_id|inv_total|inv_items|acct_age|num_inv_120d|cum_tot_inv_acct|is_late|\n",
      "+------+-------+---------+---------+--------+------------+----------------+-------+\n",
      "|     1|      1|150688.82|       16|    1626|          23|              56|      1|\n",
      "|     2|      1| 69363.78|        6|    1433|          17|              22|      0|\n",
      "|     3|      1|147434.99|       15|    1392|          12|              13|      0|\n",
      "|     4|      1|136826.63|       10|    1541|          21|              41|      0|\n",
      "|     5|      1|308846.37|       21|    1600|          20|              50|      0|\n",
      "|     6|      1|  9787.72|        8|    1424|          17|              20|      0|\n",
      "|     7|      1|147924.41|       16|    1402|          16|              17|      0|\n",
      "|     8|      1|137621.43|       15|    1454|          18|              26|      0|\n",
      "|     9|      1|  11299.5|        5|    1396|          14|              15|      0|\n",
      "|    10|      1|124059.65|       12|    1506|          21|              33|      0|\n",
      "|    11|      1| 111812.0|       17|    1560|          19|              44|      1|\n",
      "|    12|      1| 35051.03|        3|    1394|          13|              14|      0|\n",
      "|    13|      1|126570.35|       12|    1616|          23|              54|      0|\n",
      "|    14|      1|237957.76|       22|    1579|          19|              47|      0|\n",
      "|    15|      1|214171.37|       23|    1374|          10|              11|      1|\n",
      "|    16|      1| 168124.8|       17|    1313|           4|               5|      0|\n",
      "|    17|      1| 55486.75|        8|    1413|          17|              18|      0|\n",
      "|    18|      1|100269.37|        7|    1350|           8|               9|      0|\n",
      "|    19|      1| 36407.18|        5|    1431|          16|              21|      0|\n",
      "|    20|      1|111663.22|       18|    1401|          15|              16|      0|\n",
      "+------+-------+---------+---------+--------+------------+----------------+-------+\n",
      "only showing top 20 rows\n",
      "\n"
     ]
    }
   ],
   "source": [
    "# STEP 5B: FINAL DATAFRAME USING INTERMEDIATE MODEL AND ADDITIONAL CALCULATIONS\n",
    "\n",
    "\n",
    "try:\n",
    "  with warnings.catch_warnings():\n",
    "        warnings.simplefilter(\"ignore\")\n",
    "  \n",
    "  invoices_final = spark.sql(\"\"\"\n",
    "\n",
    "------------SELECTS ATTRIBUTES RELATED TO INTERMEDIATE MODEL, INVOICES AND ACCOUNTS-------------\n",
    "-----------------------------USES invoices AS STARTIUNG POINT-----------------------------------\n",
    "------------------JOINS invoices_total AND accounts INFORMATION INTO invoices-------------------\n",
    "\n",
    "  SELECT \n",
    "    i.invoice_id AS inv_id\n",
    "    ,i.account_id AS acct_id\n",
    "    ,t.total_retail_price AS inv_total\n",
    "    ,t.total_quantity AS inv_items\n",
    "\n",
    "    ,DATEDIFF(day, a.joining_date, i.date_issued) AS acct_age       --CALCULATE THE ACCOUNT AGE\n",
    "    \n",
    "    ,COUNT(i.invoice_id) OVER (PARTITION BY i.account_id \n",
    "      ORDER BY i.date_issued \n",
    "      RANGE BETWEEN 120 PRECEDING AND 1 PRECEDING) AS num_inv_120d  --COUNT INVOICES IN THE LAST 120 DAYS FROM DATE ISSUED\n",
    "    \n",
    "    ,ROW_NUMBER() OVER (PARTITION BY i.account_id \n",
    "      ORDER BY i.date_issued, i.invoice_id) AS cum_tot_inv_acct     --CALCULATE CUMULATIVE INVOICES FOR ACCOUNT\n",
    "\n",
    "    ,CASE \n",
    "      WHEN DATEDIFF(i.payment_dates, i.date_issued) > 30 THEN 1\n",
    "      ELSE 0\n",
    "     END AS is_late                                                 --BINARY FLAG IF THE INVOICE IS PAID LATE\n",
    "\n",
    "  FROM invoices i\n",
    "    LEFT JOIN invoices_total t\n",
    "    ON i.invoice_id = t.invoice_id\n",
    "\n",
    "    LEFT JOIN accounts a\n",
    "    ON a.account_id = i.account_id\n",
    "\n",
    "  ORDER BY i.invoice_id\n",
    "\n",
    "\n",
    "  \"\"\")\n",
    "\n",
    "  invoices_final.show()\n",
    "\n",
    "except Exception as e:\n",
    "    # RETRIEVE SQL ERROR MESSAGE\n",
    "    sql_error_message = str(e)\n",
    "    print(\"SQL Error Message:\", sql_error_message)\n",
    "\n",
    "\n"
   ]
  },
  {
   "cell_type": "code",
   "execution_count": 13,
   "metadata": {},
   "outputs": [],
   "source": [
    "# STEP 6: SAVE FINAL DATASET TO CSV FILE\n",
    "\n",
    "invoices_final.write.option(\"header\",True) \\\n",
    "                    .option(\"delimiter\",\",\") \\\n",
    "                    .csv(\"data_output\", header=True, mode=\"overwrite\")"
   ]
  },
  {
   "cell_type": "code",
   "execution_count": 14,
   "metadata": {},
   "outputs": [],
   "source": [
    "# STEP 7: STOP SPARK SESSION\n",
    "\n",
    "spark.stop()"
   ]
  },
  {
   "cell_type": "markdown",
   "metadata": {},
   "source": [
    "**----------------------------------------------------------------------------------------------------**\n",
    "# **DATA MODELS & DESIGN CHOICES**\n",
    "**----------------------------------------------------------------------------------------------------**"
   ]
  },
  {
   "cell_type": "markdown",
   "metadata": {},
   "source": [
    "**Data Model:**\n",
    "\n",
    "- ETL pipeline built using Spark SQL, intermediate data models created to store the results of different stages of data transformation.\n",
    "\n",
    "- **Intermediate Model:**\n",
    "    Invoices_total - aggregated summary of invoice items, total quantity of items, total cost price and total retail price for each invoice. The model simplifies the ETL process and provides a cleaner workflow.\n",
    "\n",
    "    Additional intermediate models may be used in more complex ETL pipelines to enhance performance and enable data validation.\n"
   ]
  },
  {
   "cell_type": "markdown",
   "metadata": {},
   "source": [
    "**Design Choices and Scaling Considerations:**\n",
    "\n",
    "- **Spark SQL:** Using Spark for the ETL pipeline allows us to process large volumes of data efficiently, thanks to its distributed processing capabilities.\n",
    "\n",
    "- **Scalability:** By partitioning and distributing data across a cluster, Spark can process data in parallel, making it scalable to handle big data workloads.\n",
    "\n",
    "- **Data Source and Data Lakes:** The pipeline reads data from CSV files as the data source and writes the final features dataset to a CSV file as the data lake. Depending on the production environment, we might use other data sources and lakes like databases and cloud storage.\n",
    "\n",
    "- **Testing the ETL Job:** To test the ETL job, we can use unit testing frameworks like PySpark's pyspark.sql.test.DataFrameTest, which allows us to compare expected results with the ETL pipeline's output."
   ]
  }
 ],
 "metadata": {
  "kernelspec": {
   "display_name": "Python 3.10.4 64-bit",
   "language": "python",
   "name": "python3"
  },
  "language_info": {
   "codemirror_mode": {
    "name": "ipython",
    "version": 3
   },
   "file_extension": ".py",
   "mimetype": "text/x-python",
   "name": "python",
   "nbconvert_exporter": "python",
   "pygments_lexer": "ipython3",
   "version": "3.10.4"
  },
  "orig_nbformat": 4,
  "vscode": {
   "interpreter": {
    "hash": "aee8b7b246df8f9039afb4144a1f6fd8d2ca17a180786b69acc140d282b71a49"
   }
  }
 },
 "nbformat": 4,
 "nbformat_minor": 2
}
